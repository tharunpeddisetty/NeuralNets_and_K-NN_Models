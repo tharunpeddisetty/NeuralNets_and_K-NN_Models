{
 "cells": [
  {
   "cell_type": "code",
   "execution_count": 8,
   "metadata": {},
   "outputs": [],
   "source": [
    "import numpy as np\n",
    "import pandas as pd \n",
    "import matplotlib.pyplot as plt\n",
    "import copy\n",
    "import seaborn as sns\n",
    "import time\n",
    "from sklearn.svm import SVC\n",
    "from sklearn.metrics import confusion_matrix, accuracy_score, roc_curve, auc\n",
    "from sklearn.preprocessing import label_binarize\n",
    "from sklearn.multiclass import OneVsRestClassifier\n",
    "from sklearn.metrics import roc_auc_score\n",
    "import tensorflow as tf\n",
    "from tensorflow import keras\n",
    "from tensorflow.keras import layers"
   ]
  },
  {
   "cell_type": "code",
   "execution_count": 2,
   "metadata": {},
   "outputs": [],
   "source": [
    "data = pd.read_csv('Cardiotocography.csv')"
   ]
  },
  {
   "cell_type": "code",
   "execution_count": 3,
   "metadata": {},
   "outputs": [
    {
     "data": {
      "text/html": [
       "<div>\n",
       "<style scoped>\n",
       "    .dataframe tbody tr th:only-of-type {\n",
       "        vertical-align: middle;\n",
       "    }\n",
       "\n",
       "    .dataframe tbody tr th {\n",
       "        vertical-align: top;\n",
       "    }\n",
       "\n",
       "    .dataframe thead th {\n",
       "        text-align: right;\n",
       "    }\n",
       "</style>\n",
       "<table border=\"1\" class=\"dataframe\">\n",
       "  <thead>\n",
       "    <tr style=\"text-align: right;\">\n",
       "      <th></th>\n",
       "      <th>LB</th>\n",
       "      <th>AC</th>\n",
       "      <th>FM</th>\n",
       "      <th>UC</th>\n",
       "      <th>DL</th>\n",
       "      <th>DS</th>\n",
       "      <th>DP</th>\n",
       "      <th>ASTV</th>\n",
       "      <th>MSTV</th>\n",
       "      <th>ALTV</th>\n",
       "      <th>...</th>\n",
       "      <th>Min</th>\n",
       "      <th>Max</th>\n",
       "      <th>Nmax</th>\n",
       "      <th>Nzeros</th>\n",
       "      <th>Mode</th>\n",
       "      <th>Mean</th>\n",
       "      <th>Median</th>\n",
       "      <th>Variance</th>\n",
       "      <th>Tendency</th>\n",
       "      <th>NSP</th>\n",
       "    </tr>\n",
       "  </thead>\n",
       "  <tbody>\n",
       "    <tr>\n",
       "      <th>0</th>\n",
       "      <td>120</td>\n",
       "      <td>0.000</td>\n",
       "      <td>0.000</td>\n",
       "      <td>0.000</td>\n",
       "      <td>0.000</td>\n",
       "      <td>0.0</td>\n",
       "      <td>0.0</td>\n",
       "      <td>73</td>\n",
       "      <td>0.5</td>\n",
       "      <td>43</td>\n",
       "      <td>...</td>\n",
       "      <td>62</td>\n",
       "      <td>126</td>\n",
       "      <td>2</td>\n",
       "      <td>0</td>\n",
       "      <td>120</td>\n",
       "      <td>137</td>\n",
       "      <td>121</td>\n",
       "      <td>73</td>\n",
       "      <td>1</td>\n",
       "      <td>2</td>\n",
       "    </tr>\n",
       "    <tr>\n",
       "      <th>1</th>\n",
       "      <td>132</td>\n",
       "      <td>0.006</td>\n",
       "      <td>0.000</td>\n",
       "      <td>0.006</td>\n",
       "      <td>0.003</td>\n",
       "      <td>0.0</td>\n",
       "      <td>0.0</td>\n",
       "      <td>17</td>\n",
       "      <td>2.1</td>\n",
       "      <td>0</td>\n",
       "      <td>...</td>\n",
       "      <td>68</td>\n",
       "      <td>198</td>\n",
       "      <td>6</td>\n",
       "      <td>1</td>\n",
       "      <td>141</td>\n",
       "      <td>136</td>\n",
       "      <td>140</td>\n",
       "      <td>12</td>\n",
       "      <td>0</td>\n",
       "      <td>1</td>\n",
       "    </tr>\n",
       "    <tr>\n",
       "      <th>2</th>\n",
       "      <td>133</td>\n",
       "      <td>0.003</td>\n",
       "      <td>0.000</td>\n",
       "      <td>0.008</td>\n",
       "      <td>0.003</td>\n",
       "      <td>0.0</td>\n",
       "      <td>0.0</td>\n",
       "      <td>16</td>\n",
       "      <td>2.1</td>\n",
       "      <td>0</td>\n",
       "      <td>...</td>\n",
       "      <td>68</td>\n",
       "      <td>198</td>\n",
       "      <td>5</td>\n",
       "      <td>1</td>\n",
       "      <td>141</td>\n",
       "      <td>135</td>\n",
       "      <td>138</td>\n",
       "      <td>13</td>\n",
       "      <td>0</td>\n",
       "      <td>1</td>\n",
       "    </tr>\n",
       "    <tr>\n",
       "      <th>3</th>\n",
       "      <td>134</td>\n",
       "      <td>0.003</td>\n",
       "      <td>0.000</td>\n",
       "      <td>0.008</td>\n",
       "      <td>0.003</td>\n",
       "      <td>0.0</td>\n",
       "      <td>0.0</td>\n",
       "      <td>16</td>\n",
       "      <td>2.4</td>\n",
       "      <td>0</td>\n",
       "      <td>...</td>\n",
       "      <td>53</td>\n",
       "      <td>170</td>\n",
       "      <td>11</td>\n",
       "      <td>0</td>\n",
       "      <td>137</td>\n",
       "      <td>134</td>\n",
       "      <td>137</td>\n",
       "      <td>13</td>\n",
       "      <td>1</td>\n",
       "      <td>1</td>\n",
       "    </tr>\n",
       "    <tr>\n",
       "      <th>4</th>\n",
       "      <td>132</td>\n",
       "      <td>0.007</td>\n",
       "      <td>0.000</td>\n",
       "      <td>0.008</td>\n",
       "      <td>0.000</td>\n",
       "      <td>0.0</td>\n",
       "      <td>0.0</td>\n",
       "      <td>16</td>\n",
       "      <td>2.4</td>\n",
       "      <td>0</td>\n",
       "      <td>...</td>\n",
       "      <td>53</td>\n",
       "      <td>170</td>\n",
       "      <td>9</td>\n",
       "      <td>0</td>\n",
       "      <td>137</td>\n",
       "      <td>136</td>\n",
       "      <td>138</td>\n",
       "      <td>11</td>\n",
       "      <td>1</td>\n",
       "      <td>1</td>\n",
       "    </tr>\n",
       "    <tr>\n",
       "      <th>...</th>\n",
       "      <td>...</td>\n",
       "      <td>...</td>\n",
       "      <td>...</td>\n",
       "      <td>...</td>\n",
       "      <td>...</td>\n",
       "      <td>...</td>\n",
       "      <td>...</td>\n",
       "      <td>...</td>\n",
       "      <td>...</td>\n",
       "      <td>...</td>\n",
       "      <td>...</td>\n",
       "      <td>...</td>\n",
       "      <td>...</td>\n",
       "      <td>...</td>\n",
       "      <td>...</td>\n",
       "      <td>...</td>\n",
       "      <td>...</td>\n",
       "      <td>...</td>\n",
       "      <td>...</td>\n",
       "      <td>...</td>\n",
       "      <td>...</td>\n",
       "    </tr>\n",
       "    <tr>\n",
       "      <th>2121</th>\n",
       "      <td>140</td>\n",
       "      <td>0.000</td>\n",
       "      <td>0.000</td>\n",
       "      <td>0.007</td>\n",
       "      <td>0.000</td>\n",
       "      <td>0.0</td>\n",
       "      <td>0.0</td>\n",
       "      <td>79</td>\n",
       "      <td>0.2</td>\n",
       "      <td>25</td>\n",
       "      <td>...</td>\n",
       "      <td>137</td>\n",
       "      <td>177</td>\n",
       "      <td>4</td>\n",
       "      <td>0</td>\n",
       "      <td>153</td>\n",
       "      <td>150</td>\n",
       "      <td>152</td>\n",
       "      <td>2</td>\n",
       "      <td>0</td>\n",
       "      <td>2</td>\n",
       "    </tr>\n",
       "    <tr>\n",
       "      <th>2122</th>\n",
       "      <td>140</td>\n",
       "      <td>0.001</td>\n",
       "      <td>0.000</td>\n",
       "      <td>0.007</td>\n",
       "      <td>0.000</td>\n",
       "      <td>0.0</td>\n",
       "      <td>0.0</td>\n",
       "      <td>78</td>\n",
       "      <td>0.4</td>\n",
       "      <td>22</td>\n",
       "      <td>...</td>\n",
       "      <td>103</td>\n",
       "      <td>169</td>\n",
       "      <td>6</td>\n",
       "      <td>0</td>\n",
       "      <td>152</td>\n",
       "      <td>148</td>\n",
       "      <td>151</td>\n",
       "      <td>3</td>\n",
       "      <td>1</td>\n",
       "      <td>2</td>\n",
       "    </tr>\n",
       "    <tr>\n",
       "      <th>2123</th>\n",
       "      <td>140</td>\n",
       "      <td>0.001</td>\n",
       "      <td>0.000</td>\n",
       "      <td>0.007</td>\n",
       "      <td>0.000</td>\n",
       "      <td>0.0</td>\n",
       "      <td>0.0</td>\n",
       "      <td>79</td>\n",
       "      <td>0.4</td>\n",
       "      <td>20</td>\n",
       "      <td>...</td>\n",
       "      <td>103</td>\n",
       "      <td>170</td>\n",
       "      <td>5</td>\n",
       "      <td>0</td>\n",
       "      <td>153</td>\n",
       "      <td>148</td>\n",
       "      <td>152</td>\n",
       "      <td>4</td>\n",
       "      <td>1</td>\n",
       "      <td>2</td>\n",
       "    </tr>\n",
       "    <tr>\n",
       "      <th>2124</th>\n",
       "      <td>140</td>\n",
       "      <td>0.001</td>\n",
       "      <td>0.000</td>\n",
       "      <td>0.006</td>\n",
       "      <td>0.000</td>\n",
       "      <td>0.0</td>\n",
       "      <td>0.0</td>\n",
       "      <td>78</td>\n",
       "      <td>0.4</td>\n",
       "      <td>27</td>\n",
       "      <td>...</td>\n",
       "      <td>103</td>\n",
       "      <td>169</td>\n",
       "      <td>6</td>\n",
       "      <td>0</td>\n",
       "      <td>152</td>\n",
       "      <td>147</td>\n",
       "      <td>151</td>\n",
       "      <td>4</td>\n",
       "      <td>1</td>\n",
       "      <td>2</td>\n",
       "    </tr>\n",
       "    <tr>\n",
       "      <th>2125</th>\n",
       "      <td>142</td>\n",
       "      <td>0.002</td>\n",
       "      <td>0.002</td>\n",
       "      <td>0.008</td>\n",
       "      <td>0.000</td>\n",
       "      <td>0.0</td>\n",
       "      <td>0.0</td>\n",
       "      <td>74</td>\n",
       "      <td>0.4</td>\n",
       "      <td>36</td>\n",
       "      <td>...</td>\n",
       "      <td>117</td>\n",
       "      <td>159</td>\n",
       "      <td>2</td>\n",
       "      <td>1</td>\n",
       "      <td>145</td>\n",
       "      <td>143</td>\n",
       "      <td>145</td>\n",
       "      <td>1</td>\n",
       "      <td>0</td>\n",
       "      <td>1</td>\n",
       "    </tr>\n",
       "  </tbody>\n",
       "</table>\n",
       "<p>2126 rows × 22 columns</p>\n",
       "</div>"
      ],
      "text/plain": [
       "       LB     AC     FM     UC     DL   DS   DP  ASTV  MSTV  ALTV  ...  Min  \\\n",
       "0     120  0.000  0.000  0.000  0.000  0.0  0.0    73   0.5    43  ...   62   \n",
       "1     132  0.006  0.000  0.006  0.003  0.0  0.0    17   2.1     0  ...   68   \n",
       "2     133  0.003  0.000  0.008  0.003  0.0  0.0    16   2.1     0  ...   68   \n",
       "3     134  0.003  0.000  0.008  0.003  0.0  0.0    16   2.4     0  ...   53   \n",
       "4     132  0.007  0.000  0.008  0.000  0.0  0.0    16   2.4     0  ...   53   \n",
       "...   ...    ...    ...    ...    ...  ...  ...   ...   ...   ...  ...  ...   \n",
       "2121  140  0.000  0.000  0.007  0.000  0.0  0.0    79   0.2    25  ...  137   \n",
       "2122  140  0.001  0.000  0.007  0.000  0.0  0.0    78   0.4    22  ...  103   \n",
       "2123  140  0.001  0.000  0.007  0.000  0.0  0.0    79   0.4    20  ...  103   \n",
       "2124  140  0.001  0.000  0.006  0.000  0.0  0.0    78   0.4    27  ...  103   \n",
       "2125  142  0.002  0.002  0.008  0.000  0.0  0.0    74   0.4    36  ...  117   \n",
       "\n",
       "      Max  Nmax  Nzeros  Mode  Mean  Median  Variance  Tendency  NSP  \n",
       "0     126     2       0   120   137     121        73         1    2  \n",
       "1     198     6       1   141   136     140        12         0    1  \n",
       "2     198     5       1   141   135     138        13         0    1  \n",
       "3     170    11       0   137   134     137        13         1    1  \n",
       "4     170     9       0   137   136     138        11         1    1  \n",
       "...   ...   ...     ...   ...   ...     ...       ...       ...  ...  \n",
       "2121  177     4       0   153   150     152         2         0    2  \n",
       "2122  169     6       0   152   148     151         3         1    2  \n",
       "2123  170     5       0   153   148     152         4         1    2  \n",
       "2124  169     6       0   152   147     151         4         1    2  \n",
       "2125  159     2       1   145   143     145         1         0    1  \n",
       "\n",
       "[2126 rows x 22 columns]"
      ]
     },
     "execution_count": 3,
     "metadata": {},
     "output_type": "execute_result"
    }
   ],
   "source": [
    "data"
   ]
  },
  {
   "cell_type": "code",
   "execution_count": 26,
   "metadata": {},
   "outputs": [],
   "source": [
    "X = data.iloc[:,:-1].values\n",
    "Y = data.iloc[:, -1].values"
   ]
  },
  {
   "cell_type": "code",
   "execution_count": 27,
   "metadata": {},
   "outputs": [],
   "source": [
    "# Binarize the output\n",
    "y = label_binarize(Y, classes=[1,2,3])\n",
    "n_classes = y.shape[1]\n",
    "\n",
    "#Splitting data into training and testing set\n",
    "from sklearn.model_selection import train_test_split\n",
    "X_train, X_test, y_train, y_test = train_test_split(X,y,test_size=0.3,random_state=0)"
   ]
  },
  {
   "cell_type": "code",
   "execution_count": 28,
   "metadata": {},
   "outputs": [],
   "source": [
    "#Feature Scaling\n",
    "# Applying Feature Scaling for Features\n",
    "from sklearn.preprocessing import StandardScaler\n",
    "sc = StandardScaler()\n",
    "X_train = sc.fit_transform(X_train) #applying on all features\n",
    "X_test = sc.transform(X_test)"
   ]
  },
  {
   "cell_type": "code",
   "execution_count": 67,
   "metadata": {},
   "outputs": [
    {
     "name": "stdout",
     "output_type": "stream",
     "text": [
      "0.9200626959247649\n",
      "[[477  15   2]\n",
      " [ 22  63   1]\n",
      " [  3   8  47]]\n"
     ]
    }
   ],
   "source": [
    "\n",
    "model = keras.Sequential(\n",
    "    [\n",
    "        layers.Dense(12, activation=\"relu\", name=\"hiddenlayer1\"),\n",
    "        layers.Dense(12, activation=\"relu\", name=\"hiddenlayer1\"),\n",
    "        layers.Dense(3, activation=\"softmax\",name=\"outputlayer\"),\n",
    "\n",
    "    ]\n",
    ")\n",
    "  \n",
    "start_time = time.time()\n",
    "\n",
    "model.compile(optimizer=\"adam\" ,loss='categorical_crossentropy' ,metrics=['accuracy'])\n",
    "\n",
    "model.fit(X_train,y_train,batch_size=62,epochs=100,verbose=0)\n",
    "\n",
    "y_pred = model.predict(X_test)\n",
    "\n",
    "# Converting probabilities into label predictions based on highest probability\n",
    "prediction=[]\n",
    "for i in range(len(y_pred)):\n",
    "    prediction.append(y_pred[i].argmax() + 1)\n",
    "    \n",
    "\n",
    "Pred = label_binarize(prediction, classes=[1,2,3])\n",
    "\n",
    "print(accuracy_score(y_test,Pred))\n",
    "\n",
    "#Confusion Matrix\n",
    "cm = confusion_matrix(Y_test,prediction)\n",
    "print(cm)"
   ]
  },
  {
   "cell_type": "markdown",
   "metadata": {},
   "source": [
    "# Experiments"
   ]
  },
  {
   "cell_type": "code",
   "execution_count": 90,
   "metadata": {},
   "outputs": [],
   "source": [
    "def Model(activation):\n",
    "    act = activation\n",
    "    model = keras.Sequential(\n",
    "        [\n",
    "            layers.Dense(12, activation=act, name=\"hiddenlayer1\"),\n",
    "            layers.Dense(12, activation=act, name=\"hiddenlayer2\"),\n",
    "            layers.Dense(3, activation=\"softmax\",name=\"outputlayer\"),\n",
    "\n",
    "        ]\n",
    "    )\n",
    "    \n",
    "    return model"
   ]
  },
  {
   "cell_type": "code",
   "execution_count": 94,
   "metadata": {},
   "outputs": [],
   "source": [
    "Act_list = ['linear','relu','tanh',\"sigmoid\"]\n",
    "accuracy =[]\n",
    "extime=[]\n",
    "for a in Act_list:\n",
    "    start_time = time.time()\n",
    "    \n",
    "    model = Model(a)\n",
    "    \n",
    "    model.compile(optimizer='adam' ,loss='categorical_crossentropy' ,metrics=['accuracy'])\n",
    "\n",
    "    model.fit(X_train,y_train,batch_size=32,epochs=50,verbose=0)\n",
    "    \n",
    "    y_pred = model.predict(X_test)\n",
    "    \n",
    "    # Converting probabilities into label predictions based on highest probability\n",
    "    prediction=[]\n",
    "    for i in range(len(y_pred)):\n",
    "        prediction.append(y_pred[i].argmax() + 1)\n",
    "\n",
    "\n",
    "    Pred = label_binarize(prediction, classes=[1,2,3])\n",
    "    \n",
    "    extime.append((time.time() - start_time))\n",
    "    #print(accuracy_score(y_test,Pred))\n",
    "    accuracy.append(accuracy_score(y_test,Pred))"
   ]
  },
  {
   "cell_type": "code",
   "execution_count": 95,
   "metadata": {},
   "outputs": [
    {
     "data": {
      "image/png": "[encoded data removed]",
      "text/plain": [
       "<Figure size 432x288 with 1 Axes>"
      ]
     },
     "metadata": {
      "needs_background": "light"
     },
     "output_type": "display_data"
    },
    {
     "data": {
      "image/png": "[encoded data removed]",
      "text/plain": [
       "<Figure size 432x288 with 1 Axes>"
      ]
     },
     "metadata": {
      "needs_background": "light"
     },
     "output_type": "display_data"
    }
   ],
   "source": [
    "plt.xlabel('Activation Functions')\n",
    "plt.ylabel('Accuracy')\n",
    "plt.plot(Act_list,accuracy)\n",
    "plt.show()\n",
    "\n",
    "plt.xlabel('Activation Functions')\n",
    "plt.ylabel('Execution Time')\n",
    "plt.plot(Act_list,extime)\n",
    "plt.show()"
   ]
  },
  {
   "cell_type": "markdown",
   "metadata": {},
   "source": [
    "# Finding best # of hidden layers"
   ]
  },
  {
   "cell_type": "code",
   "execution_count": 113,
   "metadata": {},
   "outputs": [],
   "source": [
    "def Model():\n",
    "    model = keras.Sequential(\n",
    "        [\n",
    "            layers.Dense(6, activation=\"relu\", name=\"hiddenlayer1\"),\n",
    "            layers.Dense(6, activation=\"relu\", name=\"hiddenlayer1\"),\n",
    "            layers.Dense(6, activation=\"relu\", name=\"hiddenlayer1\"),\n",
    "            layers.Dense(6, activation=\"relu\", name=\"hiddenlayer1\"),\n",
    "            layers.Dense(6, activation=\"relu\", name=\"hiddenlayer1\"),\n",
    "            layers.Dense(3, activation=\"softmax\",name=\"outputlayer\"),\n",
    "\n",
    "        ]\n",
    "    )\n",
    "    \n",
    "    return model"
   ]
  },
  {
   "cell_type": "code",
   "execution_count": 114,
   "metadata": {},
   "outputs": [],
   "source": [
    "\n",
    "\n",
    "model = Model()\n",
    "    \n",
    "model.compile(optimizer='adam' ,loss='categorical_crossentropy' ,metrics=['accuracy'])\n",
    "\n",
    "model.fit(X_train,y_train,batch_size=32,epochs=50,verbose=0)\n",
    "\n",
    "y_pred = model.predict(X_test)\n",
    "\n",
    "# Converting probabilities into label predictions based on highest probability\n",
    "prediction=[]\n",
    "for i in range(len(y_pred)):\n",
    "    prediction.append(y_pred[i].argmax() + 1)\n",
    "\n",
    "\n",
    "Pred = label_binarize(prediction, classes=[1,2,3])\n",
    "\n",
    "extime.append((time.time() - start_time))\n",
    "#print(accuracy_score(y_test,Pred))\n",
    "accuracy.append(accuracy_score(y_test,Pred))"
   ]
  },
  {
   "cell_type": "code",
   "execution_count": 115,
   "metadata": {},
   "outputs": [
    {
     "data": {
      "image/png": "[encoded data removed]",
      "text/plain": [
       "<Figure size 432x288 with 1 Axes>"
      ]
     },
     "metadata": {
      "needs_background": "light"
     },
     "output_type": "display_data"
    }
   ],
   "source": [
    "dl=list(range(1,6))\n",
    "plt.xlabel('Number of Hidden Layers')\n",
    "plt.ylabel('Accuracy')\n",
    "plt.plot(dl,accuracy)\n",
    "plt.show()"
   ]
  },
  {
   "cell_type": "markdown",
   "metadata": {},
   "source": [
    "# Finding best # Neurons in each hidden layer"
   ]
  },
  {
   "cell_type": "code",
   "execution_count": 116,
   "metadata": {},
   "outputs": [],
   "source": [
    "def Model(n):\n",
    "    model = keras.Sequential(\n",
    "        [\n",
    "            layers.Dense(n, activation=\"relu\", name=\"hiddenlayer1\"),\n",
    "            layers.Dense(n, activation=\"relu\", name=\"hiddenlayer2\"),\n",
    "            layers.Dense(n, activation=\"relu\", name=\"hiddenlayer3\"),\n",
    "            layers.Dense(3, activation=\"softmax\",name=\"outputlayer\"),\n",
    "\n",
    "        ]\n",
    "    )\n",
    "    \n",
    "    return model"
   ]
  },
  {
   "cell_type": "code",
   "execution_count": 117,
   "metadata": {},
   "outputs": [],
   "source": [
    "n_list = [2,6,8,12,15]\n",
    "accuracy =[]\n",
    "extime=[]\n",
    "for n in n_list:\n",
    "    start_time = time.time()\n",
    "    \n",
    "    model = Model(n)\n",
    "    \n",
    "    model.compile(optimizer='adam' ,loss='categorical_crossentropy' ,metrics=['accuracy'])\n",
    "\n",
    "    model.fit(X_train,y_train,batch_size=32,epochs=50,verbose=0)\n",
    "    \n",
    "    y_pred = model.predict(X_test)\n",
    "    \n",
    "    # Converting probabilities into label predictions based on highest probability\n",
    "    prediction=[]\n",
    "    for i in range(len(y_pred)):\n",
    "        prediction.append(y_pred[i].argmax() + 1)\n",
    "\n",
    "\n",
    "    Pred = label_binarize(prediction, classes=[1,2,3])\n",
    "    \n",
    "    extime.append((time.time() - start_time))\n",
    "    #print(accuracy_score(y_test,Pred))\n",
    "    accuracy.append(accuracy_score(y_test,Pred))"
   ]
  },
  {
   "cell_type": "code",
   "execution_count": 118,
   "metadata": {},
   "outputs": [
    {
     "data": {
      "image/png": "[encoded data removed]",
      "text/plain": [
       "<Figure size 432x288 with 1 Axes>"
      ]
     },
     "metadata": {
      "needs_background": "light"
     },
     "output_type": "display_data"
    },
    {
     "data": {
      "image/png": "[encoded data removed]",
      "text/plain": [
       "<Figure size 432x288 with 1 Axes>"
      ]
     },
     "metadata": {
      "needs_background": "light"
     },
     "output_type": "display_data"
    }
   ],
   "source": [
    "plt.xlabel('Number of Hidden Layer Neurons')\n",
    "plt.ylabel('Accuracy')\n",
    "plt.plot(n_list,accuracy)\n",
    "plt.show()\n",
    "\n",
    "plt.xlabel('Number of Hidden Layer Neurons')\n",
    "plt.ylabel('Execution Time')\n",
    "plt.plot(n_list,extime)\n",
    "plt.show()"
   ]
  },
  {
   "cell_type": "markdown",
   "metadata": {},
   "source": [
    "# Finding best optimizer"
   ]
  },
  {
   "cell_type": "code",
   "execution_count": 119,
   "metadata": {},
   "outputs": [],
   "source": [
    "def Model():\n",
    "    model = keras.Sequential(\n",
    "        [\n",
    "            layers.Dense(8, activation=\"relu\", name=\"hiddenlayer1\"),\n",
    "            layers.Dense(8, activation=\"relu\", name=\"hiddenlayer2\"),\n",
    "            layers.Dense(8, activation=\"relu\", name=\"hiddenlayer3\"),\n",
    "            layers.Dense(3, activation=\"softmax\",name=\"outputlayer\"),\n",
    "\n",
    "        ]\n",
    "    )\n",
    "    \n",
    "    return model"
   ]
  },
  {
   "cell_type": "code",
   "execution_count": 122,
   "metadata": {},
   "outputs": [],
   "source": [
    "optimizers = ['adam','sgd','adamax','rmsprop']\n",
    "accuracy =[]\n",
    "extime=[]\n",
    "for opt in optimizers:\n",
    "    start_time = time.time()\n",
    "    \n",
    "    model = Model()\n",
    "    \n",
    "    model.compile(optimizer=opt ,loss='categorical_crossentropy' ,metrics=['accuracy'])\n",
    "\n",
    "    model.fit(X_train,y_train,batch_size=32,epochs=50,verbose=0)\n",
    "    \n",
    "    y_pred = model.predict(X_test)\n",
    "    \n",
    "    # Converting probabilities into label predictions based on highest probability\n",
    "    prediction=[]\n",
    "    for i in range(len(y_pred)):\n",
    "        prediction.append(y_pred[i].argmax() + 1)\n",
    "\n",
    "\n",
    "    Pred = label_binarize(prediction, classes=[1,2,3])\n",
    "    \n",
    "    extime.append((time.time() - start_time))\n",
    "    #print(accuracy_score(y_test,Pred))\n",
    "    accuracy.append(accuracy_score(y_test,Pred))"
   ]
  },
  {
   "cell_type": "code",
   "execution_count": 123,
   "metadata": {},
   "outputs": [
    {
     "data": {
      "image/png": "[encoded data removed]",
      "text/plain": [
       "<Figure size 432x288 with 1 Axes>"
      ]
     },
     "metadata": {
      "needs_background": "light"
     },
     "output_type": "display_data"
    },
    {
     "data": {
      "image/png": "[encoded data removed]",
      "text/plain": [
       "<Figure size 432x288 with 1 Axes>"
      ]
     },
     "metadata": {
      "needs_background": "light"
     },
     "output_type": "display_data"
    }
   ],
   "source": [
    "plt.xlabel('Optimizers')\n",
    "plt.ylabel('Accuracy')\n",
    "plt.plot(optimizers,accuracy)\n",
    "plt.show()\n",
    "\n",
    "plt.xlabel('Optimizers')\n",
    "plt.ylabel('Execution Time')\n",
    "plt.plot(optimizers,extime)\n",
    "plt.show()"
   ]
  },
  {
   "cell_type": "markdown",
   "metadata": {},
   "source": [
    "# Best Epochs"
   ]
  },
  {
   "cell_type": "code",
   "execution_count": 124,
   "metadata": {},
   "outputs": [],
   "source": [
    "Epochs = [10,25,50,100,150]\n",
    "accuracy =[]\n",
    "extime=[]\n",
    "for e in Epochs:\n",
    "    start_time = time.time()\n",
    "    \n",
    "    model = Model()\n",
    "    \n",
    "    model.compile(optimizer=\"adam\" ,loss='categorical_crossentropy' ,metrics=['accuracy'])\n",
    "\n",
    "    model.fit(X_train,y_train,batch_size=32,epochs=e,verbose=0)\n",
    "    \n",
    "    y_pred = model.predict(X_test)\n",
    "    \n",
    "    # Converting probabilities into label predictions based on highest probability\n",
    "    prediction=[]\n",
    "    for i in range(len(y_pred)):\n",
    "        prediction.append(y_pred[i].argmax() + 1)\n",
    "\n",
    "\n",
    "    Pred = label_binarize(prediction, classes=[1,2,3])\n",
    "    \n",
    "    extime.append((time.time() - start_time))\n",
    "    #print(accuracy_score(y_test,Pred))\n",
    "    accuracy.append(accuracy_score(y_test,Pred))"
   ]
  },
  {
   "cell_type": "code",
   "execution_count": 125,
   "metadata": {},
   "outputs": [
    {
     "data": {
      "image/png": "[encoded data removed]",
      "text/plain": [
       "<Figure size 432x288 with 1 Axes>"
      ]
     },
     "metadata": {
      "needs_background": "light"
     },
     "output_type": "display_data"
    },
    {
     "data": {
      "image/png": "[encoded data removed]",
      "text/plain": [
       "<Figure size 432x288 with 1 Axes>"
      ]
     },
     "metadata": {
      "needs_background": "light"
     },
     "output_type": "display_data"
    }
   ],
   "source": [
    "plt.xlabel('Epochs')\n",
    "plt.ylabel('Accuracy')\n",
    "plt.plot(Epochs,accuracy)\n",
    "plt.show()\n",
    "\n",
    "plt.xlabel('Epochs')\n",
    "plt.ylabel('Execution Time')\n",
    "plt.plot(Epochs,extime)\n",
    "plt.show()"
   ]
  },
  {
   "cell_type": "markdown",
   "metadata": {},
   "source": [
    "# Best Batch Size with Epochs = 100"
   ]
  },
  {
   "cell_type": "code",
   "execution_count": 126,
   "metadata": {},
   "outputs": [],
   "source": [
    "Batch_size = [32,64,128,256]\n",
    "accuracy =[]\n",
    "extime=[]\n",
    "for b in Batch_size:\n",
    "    start_time = time.time()\n",
    "    \n",
    "    model = Model()\n",
    "    \n",
    "    model.compile(optimizer=\"adam\" ,loss='categorical_crossentropy' ,metrics=['accuracy'])\n",
    "\n",
    "    model.fit(X_train,y_train,batch_size=b,epochs=100,verbose=0)\n",
    "    \n",
    "    y_pred = model.predict(X_test)\n",
    "    \n",
    "    # Converting probabilities into label predictions based on highest probability\n",
    "    prediction=[]\n",
    "    for i in range(len(y_pred)):\n",
    "        prediction.append(y_pred[i].argmax() + 1)\n",
    "\n",
    "\n",
    "    Pred = label_binarize(prediction, classes=[1,2,3])\n",
    "    \n",
    "    extime.append((time.time() - start_time))\n",
    "    #print(accuracy_score(y_test,Pred))\n",
    "    accuracy.append(accuracy_score(y_test,Pred))"
   ]
  },
  {
   "cell_type": "code",
   "execution_count": 127,
   "metadata": {},
   "outputs": [
    {
     "data": {
      "image/png": "[encoded data removed]",
      "text/plain": [
       "<Figure size 432x288 with 1 Axes>"
      ]
     },
     "metadata": {
      "needs_background": "light"
     },
     "output_type": "display_data"
    },
    {
     "data": {
      "image/png": "[encoded data removed]",
      "text/plain": [
       "<Figure size 432x288 with 1 Axes>"
      ]
     },
     "metadata": {
      "needs_background": "light"
     },
     "output_type": "display_data"
    }
   ],
   "source": [
    "plt.xlabel('Batch Size')\n",
    "plt.ylabel('Accuracy')\n",
    "plt.plot(Batch_size,accuracy)\n",
    "plt.show()\n",
    "\n",
    "plt.xlabel('Batch Size')\n",
    "plt.ylabel('Execution Time')\n",
    "plt.plot(Batch_size,extime)\n",
    "plt.show()"
   ]
  },
  {
   "cell_type": "markdown",
   "metadata": {},
   "source": [
    "# Best Model"
   ]
  },
  {
   "cell_type": "code",
   "execution_count": 197,
   "metadata": {},
   "outputs": [
    {
     "name": "stdout",
     "output_type": "stream",
     "text": [
      "Time:  35.953739166259766\n",
      "Accuracy:  0.8871473354231975\n",
      "\n",
      "Confusion Matrix\n",
      "[[464  27   3]\n",
      " [ 27  55   4]\n",
      " [  3   8  47]]\n"
     ]
    }
   ],
   "source": [
    "model = keras.Sequential(\n",
    "        [\n",
    "            layers.Dense(8, activation=\"relu\", name=\"hiddenlayer1\"),\n",
    "            layers.Dense(8, activation=\"relu\", name=\"hiddenlayer2\"),\n",
    "            layers.Dense(8, activation=\"relu\", name=\"hiddenlayer3\"),\n",
    "            layers.Dense(3, activation=\"softmax\",name=\"outputlayer\"),\n",
    "\n",
    "        ]\n",
    "    )\n",
    "\n",
    "\n",
    "\n",
    "start_time = time.time()\n",
    "    \n",
    "model = Model()\n",
    "\n",
    "model.compile(optimizer=\"adam\" ,loss='categorical_crossentropy' ,metrics=['accuracy'])\n",
    "\n",
    "model.fit(X_train,y_train,batch_size=64,epochs=100,verbose=0)\n",
    "\n",
    "y_pred = model.predict(X_test)\n",
    "\n",
    "# Converting probabilities into label predictions based on highest probability\n",
    "prediction=[]\n",
    "for i in range(len(y_pred)):\n",
    "    prediction.append(y_pred[i].argmax() + 1)\n",
    "\n",
    "\n",
    "Pred = label_binarize(prediction, classes=[1,2,3])\n",
    "\n",
    "print(\"Time: \",time.time() - start_time)\n",
    "#print(accuracy_score(y_test,Pred))\n",
    "print(\"Accuracy: \",accuracy_score(y_test,Pred))\n",
    "\n",
    "#Confusion Matrix\n",
    "cm = confusion_matrix(Y_test,prediction)\n",
    "print(\"\\nConfusion Matrix\")\n",
    "print(cm)"
   ]
  },
  {
   "cell_type": "markdown",
   "metadata": {},
   "source": [
    "# Cross Validation"
   ]
  },
  {
   "cell_type": "code",
   "execution_count": 175,
   "metadata": {},
   "outputs": [],
   "source": [
    "from keras.wrappers.scikit_learn import KerasClassifier\n",
    "from sklearn.model_selection import KFold"
   ]
  },
  {
   "cell_type": "code",
   "execution_count": 176,
   "metadata": {},
   "outputs": [],
   "source": [
    "def Model():\n",
    "    model = keras.Sequential(\n",
    "        [\n",
    "            layers.Dense(8, activation=\"relu\", name=\"hiddenlayer1\"),\n",
    "            layers.Dense(8, activation=\"relu\", name=\"hiddenlayer2\"),\n",
    "            layers.Dense(8, activation=\"relu\", name=\"hiddenlayer3\"),\n",
    "            layers.Dense(3, activation=\"softmax\",name=\"outputlayer\"),\n",
    "\n",
    "        ]\n",
    "    )\n",
    "    \n",
    "    model.compile(optimizer=\"adam\" ,loss='categorical_crossentropy' ,metrics=['accuracy'])\n",
    "    \n",
    "    return model"
   ]
  },
  {
   "cell_type": "code",
   "execution_count": 177,
   "metadata": {},
   "outputs": [
    {
     "name": "stdout",
     "output_type": "stream",
     "text": [
      "Baseline: 91.11% (2.49%)\n"
     ]
    }
   ],
   "source": [
    "estimator = KerasClassifier(build_fn=Model, epochs=100, batch_size=64, verbose=0)\n",
    "kfold = KFold(n_splits=10, shuffle=True)\n",
    "results = cross_val_score(estimator, X_t, y, cv=kfold)\n",
    "print(\"Baseline: %.2f%% (%.2f%%)\" % (results.mean()*100, results.std()*100))"
   ]
  },
  {
   "cell_type": "code",
   "execution_count": 180,
   "metadata": {},
   "outputs": [
    {
     "data": {
      "image/png": "[encoded data removed]",
      "text/plain": [
       "<Figure size 432x288 with 1 Axes>"
      ]
     },
     "metadata": {
      "needs_background": "light"
     },
     "output_type": "display_data"
    }
   ],
   "source": [
    "plt.plot(results)\n",
    "plt.xlabel('K-Folds')\n",
    "plt.ylabel('Cross-Validated Accuracy')\n",
    "plt.show()"
   ]
  },
  {
   "cell_type": "markdown",
   "metadata": {},
   "source": [
    "# K-NN Model"
   ]
  },
  {
   "cell_type": "code",
   "execution_count": 131,
   "metadata": {},
   "outputs": [
    {
     "data": {
      "text/plain": [
       "KNeighborsClassifier()"
      ]
     },
     "execution_count": 131,
     "metadata": {},
     "output_type": "execute_result"
    }
   ],
   "source": [
    "#Implemeting K-NN model\n",
    "from sklearn.neighbors import KNeighborsClassifier\n",
    "classifier = KNeighborsClassifier(n_neighbors=5,metric='minkowski',p=2) #minkowski and p=2 means we are using eucledian distance\n",
    "classifier.fit(X_train,Y_train)"
   ]
  },
  {
   "cell_type": "code",
   "execution_count": 132,
   "metadata": {},
   "outputs": [
    {
     "name": "stdout",
     "output_type": "stream",
     "text": [
      "[[479  12   3]\n",
      " [ 36  49   1]\n",
      " [  5   8  45]]\n"
     ]
    },
    {
     "data": {
      "text/plain": [
       "0.8981191222570533"
      ]
     },
     "execution_count": 132,
     "metadata": {},
     "output_type": "execute_result"
    }
   ],
   "source": [
    "#Predicting for test data\n",
    "y_pred = classifier.predict(X_test)\n",
    "\n",
    "#Confusion Matrix\n",
    "cm = confusion_matrix(Y_test,y_pred)\n",
    "print(cm)\n",
    "accuracy_score(Y_test,y_pred)"
   ]
  },
  {
   "cell_type": "markdown",
   "metadata": {},
   "source": [
    "# Best Distance  Metric"
   ]
  },
  {
   "cell_type": "code",
   "execution_count": 134,
   "metadata": {},
   "outputs": [],
   "source": [
    "pvalue =[1,2,3]\n",
    "accuracy = []\n",
    "for pval in pvalue:\n",
    "    classifier = KNeighborsClassifier(n_neighbors=5,metric='minkowski',p=pval) \n",
    "    classifier.fit(X_train,Y_train)\n",
    "    \n",
    "    y_pred = classifier.predict(X_test)\n",
    "    \n",
    "    accuracy.append(accuracy_score(Y_test,y_pred))\n",
    "    "
   ]
  },
  {
   "cell_type": "code",
   "execution_count": 136,
   "metadata": {},
   "outputs": [
    {
     "data": {
      "image/png": "[encoded data removed]",
      "text/plain": [
       "<Figure size 432x288 with 1 Axes>"
      ]
     },
     "metadata": {
      "needs_background": "light"
     },
     "output_type": "display_data"
    }
   ],
   "source": [
    "distance = ['manhattan_distance','euclidean_distance','minkowski_distance']\n",
    "plt.xlabel('Distance Metric')\n",
    "plt.ylabel('Accuracy')\n",
    "plt.plot(distance,accuracy)\n",
    "plt.show()"
   ]
  },
  {
   "cell_type": "markdown",
   "metadata": {},
   "source": [
    "# Best N"
   ]
  },
  {
   "cell_type": "code",
   "execution_count": 184,
   "metadata": {},
   "outputs": [],
   "source": [
    "nvalue =range(1,31)\n",
    "accuracy = []\n",
    "for n in nvalue:\n",
    "    classifier = KNeighborsClassifier(n_neighbors=n,metric='minkowski',p=1) \n",
    "    classifier.fit(X_train,Y_train)\n",
    "    \n",
    "    y_pred = classifier.predict(X_test)\n",
    "    \n",
    "    accuracy.append(accuracy_score(Y_test,y_pred))"
   ]
  },
  {
   "cell_type": "code",
   "execution_count": 185,
   "metadata": {},
   "outputs": [
    {
     "data": {
      "image/png": "[encoded data removed]",
      "text/plain": [
       "<Figure size 432x288 with 1 Axes>"
      ]
     },
     "metadata": {
      "needs_background": "light"
     },
     "output_type": "display_data"
    }
   ],
   "source": [
    "plt.xlabel('# of Neighbors')\n",
    "plt.ylabel('Accuracy')\n",
    "plt.plot(nvalue,accuracy)\n",
    "plt.show()"
   ]
  },
  {
   "cell_type": "markdown",
   "metadata": {},
   "source": [
    "# Best Model"
   ]
  },
  {
   "cell_type": "code",
   "execution_count": 188,
   "metadata": {},
   "outputs": [
    {
     "name": "stdout",
     "output_type": "stream",
     "text": [
      "Accuracy: 0.9137931034482759\n",
      "\n",
      "Confusion Matrix\n",
      "[[489   5   0]\n",
      " [ 33  50   3]\n",
      " [  5   9  44]]\n"
     ]
    }
   ],
   "source": [
    "classifier = KNeighborsClassifier(n_neighbors=4,metric='minkowski',p=1) \n",
    "classifier.fit(X_train,Y_train)\n",
    "    \n",
    "y_pred = classifier.predict(X_test)\n",
    "    \n",
    "\n",
    "print(\"Accuracy:\",accuracy_score(Y_test,y_pred))\n",
    "#Confusion Matrix\n",
    "cm = confusion_matrix(Y_test,y_pred)\n",
    "print(\"\\nConfusion Matrix\")\n",
    "print(cm)"
   ]
  },
  {
   "cell_type": "markdown",
   "metadata": {},
   "source": [
    "# Cross Validation"
   ]
  },
  {
   "cell_type": "code",
   "execution_count": 144,
   "metadata": {},
   "outputs": [],
   "source": [
    "#Feature Scaling\n",
    "# Applying Feature Scaling for Features\n",
    "from sklearn.preprocessing import StandardScaler\n",
    "sc = StandardScaler()\n",
    "X_t = sc.fit_transform(X) #applying on all features\n"
   ]
  },
  {
   "cell_type": "code",
   "execution_count": 191,
   "metadata": {},
   "outputs": [
    {
     "data": {
      "image/png": "[encoded data removed]",
      "text/plain": [
       "<Figure size 432x288 with 1 Axes>"
      ]
     },
     "metadata": {
      "needs_background": "light"
     },
     "output_type": "display_data"
    }
   ],
   "source": [
    "import matplotlib.pyplot as plt \n",
    "from sklearn.model_selection import cross_val_score\n",
    "%matplotlib inline\n",
    "# choose k between 1 to 31\n",
    "k_range = range(1, 31)\n",
    "k_scores = []\n",
    "# use iteration to caclulator different k in models, then return the average accuracy based on the cross validation\n",
    "for k in k_range:\n",
    "    knn = KNeighborsClassifier(n_neighbors=k,metric='minkowski',p=1)\n",
    "    scores = cross_val_score(knn, X_t, Y, cv=10, scoring='accuracy')\n",
    "    k_scores.append(scores.mean())\n",
    "# plot to see clearly\n",
    "plt.plot(k_range, k_scores)\n",
    "plt.xlabel('Value of K for KNN')\n",
    "plt.ylabel('Cross-Validated Accuracy')\n",
    "plt.show()"
   ]
  },
  {
   "cell_type": "code",
   "execution_count": 195,
   "metadata": {},
   "outputs": [
    {
     "data": {
      "text/plain": [
       "0.8466294623084419"
      ]
     },
     "execution_count": 195,
     "metadata": {},
     "output_type": "execute_result"
    }
   ],
   "source": [
    "k_scores[9]"
   ]
  },
  {
   "cell_type": "code",
   "execution_count": null,
   "metadata": {},
   "outputs": [],
   "source": []
  }
 ],
 "metadata": {
  "kernelspec": {
   "display_name": "Python 3",
   "language": "python",
   "name": "python3"
  },
  "language_info": {
   "codemirror_mode": {
    "name": "ipython",
    "version": 3
   },
   "file_extension": ".py",
   "mimetype": "text/x-python",
   "name": "python",
   "nbconvert_exporter": "python",
   "pygments_lexer": "ipython3",
   "version": "3.7.6"
  }
 },
 "nbformat": 4,
 "nbformat_minor": 4
}
