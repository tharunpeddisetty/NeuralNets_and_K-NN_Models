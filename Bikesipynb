{
 "cells": [
  {
   "cell_type": "code",
   "execution_count": 113,
   "metadata": {},
   "outputs": [],
   "source": [
    "import numpy as np\n",
    "import pandas as pd \n",
    "import matplotlib.pyplot as plt\n",
    "import copy\n",
    "import seaborn as sns\n",
    "import time\n",
    "from sklearn.metrics import confusion_matrix, accuracy_score, roc_curve, auc\n",
    "import tensorflow as tf"
   ]
  },
  {
   "cell_type": "code",
   "execution_count": 2,
   "metadata": {},
   "outputs": [
    {
     "data": {
      "text/html": [
       "<div>\n",
       "<style scoped>\n",
       "    .dataframe tbody tr th:only-of-type {\n",
       "        vertical-align: middle;\n",
       "    }\n",
       "\n",
       "    .dataframe tbody tr th {\n",
       "        vertical-align: top;\n",
       "    }\n",
       "\n",
       "    .dataframe thead th {\n",
       "        text-align: right;\n",
       "    }\n",
       "</style>\n",
       "<table border=\"1\" class=\"dataframe\">\n",
       "  <thead>\n",
       "    <tr style=\"text-align: right;\">\n",
       "      <th></th>\n",
       "      <th>Hour</th>\n",
       "      <th>Temperature(°C)</th>\n",
       "      <th>Humidity(%)</th>\n",
       "      <th>Wind speed (m/s)</th>\n",
       "      <th>Visibility (10m)</th>\n",
       "      <th>Dew point temperature(°C)</th>\n",
       "      <th>Solar Radiation (MJ/m2)</th>\n",
       "      <th>Rainfall(mm)</th>\n",
       "      <th>Snowfall (cm)</th>\n",
       "      <th>Seasons_Spring</th>\n",
       "      <th>Seasons_Summer</th>\n",
       "      <th>Seasons_Autumn</th>\n",
       "      <th>Holiday_Dummy</th>\n",
       "      <th>FunctioningDay</th>\n",
       "      <th>MedianBikes</th>\n",
       "    </tr>\n",
       "  </thead>\n",
       "  <tbody>\n",
       "    <tr>\n",
       "      <th>0</th>\n",
       "      <td>0</td>\n",
       "      <td>-5.2</td>\n",
       "      <td>37</td>\n",
       "      <td>2.2</td>\n",
       "      <td>2000</td>\n",
       "      <td>-17.6</td>\n",
       "      <td>0.0</td>\n",
       "      <td>0.0</td>\n",
       "      <td>0.0</td>\n",
       "      <td>0</td>\n",
       "      <td>0</td>\n",
       "      <td>0</td>\n",
       "      <td>0</td>\n",
       "      <td>1</td>\n",
       "      <td>0</td>\n",
       "    </tr>\n",
       "    <tr>\n",
       "      <th>1</th>\n",
       "      <td>1</td>\n",
       "      <td>-5.5</td>\n",
       "      <td>38</td>\n",
       "      <td>0.8</td>\n",
       "      <td>2000</td>\n",
       "      <td>-17.6</td>\n",
       "      <td>0.0</td>\n",
       "      <td>0.0</td>\n",
       "      <td>0.0</td>\n",
       "      <td>0</td>\n",
       "      <td>0</td>\n",
       "      <td>0</td>\n",
       "      <td>0</td>\n",
       "      <td>1</td>\n",
       "      <td>0</td>\n",
       "    </tr>\n",
       "    <tr>\n",
       "      <th>2</th>\n",
       "      <td>2</td>\n",
       "      <td>-6.0</td>\n",
       "      <td>39</td>\n",
       "      <td>1.0</td>\n",
       "      <td>2000</td>\n",
       "      <td>-17.7</td>\n",
       "      <td>0.0</td>\n",
       "      <td>0.0</td>\n",
       "      <td>0.0</td>\n",
       "      <td>0</td>\n",
       "      <td>0</td>\n",
       "      <td>0</td>\n",
       "      <td>0</td>\n",
       "      <td>1</td>\n",
       "      <td>0</td>\n",
       "    </tr>\n",
       "    <tr>\n",
       "      <th>3</th>\n",
       "      <td>3</td>\n",
       "      <td>-6.2</td>\n",
       "      <td>40</td>\n",
       "      <td>0.9</td>\n",
       "      <td>2000</td>\n",
       "      <td>-17.6</td>\n",
       "      <td>0.0</td>\n",
       "      <td>0.0</td>\n",
       "      <td>0.0</td>\n",
       "      <td>0</td>\n",
       "      <td>0</td>\n",
       "      <td>0</td>\n",
       "      <td>0</td>\n",
       "      <td>1</td>\n",
       "      <td>0</td>\n",
       "    </tr>\n",
       "    <tr>\n",
       "      <th>4</th>\n",
       "      <td>4</td>\n",
       "      <td>-6.0</td>\n",
       "      <td>36</td>\n",
       "      <td>2.3</td>\n",
       "      <td>2000</td>\n",
       "      <td>-18.6</td>\n",
       "      <td>0.0</td>\n",
       "      <td>0.0</td>\n",
       "      <td>0.0</td>\n",
       "      <td>0</td>\n",
       "      <td>0</td>\n",
       "      <td>0</td>\n",
       "      <td>0</td>\n",
       "      <td>1</td>\n",
       "      <td>0</td>\n",
       "    </tr>\n",
       "    <tr>\n",
       "      <th>...</th>\n",
       "      <td>...</td>\n",
       "      <td>...</td>\n",
       "      <td>...</td>\n",
       "      <td>...</td>\n",
       "      <td>...</td>\n",
       "      <td>...</td>\n",
       "      <td>...</td>\n",
       "      <td>...</td>\n",
       "      <td>...</td>\n",
       "      <td>...</td>\n",
       "      <td>...</td>\n",
       "      <td>...</td>\n",
       "      <td>...</td>\n",
       "      <td>...</td>\n",
       "      <td>...</td>\n",
       "    </tr>\n",
       "    <tr>\n",
       "      <th>8755</th>\n",
       "      <td>19</td>\n",
       "      <td>4.2</td>\n",
       "      <td>34</td>\n",
       "      <td>2.6</td>\n",
       "      <td>1894</td>\n",
       "      <td>-10.3</td>\n",
       "      <td>0.0</td>\n",
       "      <td>0.0</td>\n",
       "      <td>0.0</td>\n",
       "      <td>0</td>\n",
       "      <td>0</td>\n",
       "      <td>1</td>\n",
       "      <td>0</td>\n",
       "      <td>1</td>\n",
       "      <td>1</td>\n",
       "    </tr>\n",
       "    <tr>\n",
       "      <th>8756</th>\n",
       "      <td>20</td>\n",
       "      <td>3.4</td>\n",
       "      <td>37</td>\n",
       "      <td>2.3</td>\n",
       "      <td>2000</td>\n",
       "      <td>-9.9</td>\n",
       "      <td>0.0</td>\n",
       "      <td>0.0</td>\n",
       "      <td>0.0</td>\n",
       "      <td>0</td>\n",
       "      <td>0</td>\n",
       "      <td>1</td>\n",
       "      <td>0</td>\n",
       "      <td>1</td>\n",
       "      <td>1</td>\n",
       "    </tr>\n",
       "    <tr>\n",
       "      <th>8757</th>\n",
       "      <td>21</td>\n",
       "      <td>2.6</td>\n",
       "      <td>39</td>\n",
       "      <td>0.3</td>\n",
       "      <td>1968</td>\n",
       "      <td>-9.9</td>\n",
       "      <td>0.0</td>\n",
       "      <td>0.0</td>\n",
       "      <td>0.0</td>\n",
       "      <td>0</td>\n",
       "      <td>0</td>\n",
       "      <td>1</td>\n",
       "      <td>0</td>\n",
       "      <td>1</td>\n",
       "      <td>1</td>\n",
       "    </tr>\n",
       "    <tr>\n",
       "      <th>8758</th>\n",
       "      <td>22</td>\n",
       "      <td>2.1</td>\n",
       "      <td>41</td>\n",
       "      <td>1.0</td>\n",
       "      <td>1859</td>\n",
       "      <td>-9.8</td>\n",
       "      <td>0.0</td>\n",
       "      <td>0.0</td>\n",
       "      <td>0.0</td>\n",
       "      <td>0</td>\n",
       "      <td>0</td>\n",
       "      <td>1</td>\n",
       "      <td>0</td>\n",
       "      <td>1</td>\n",
       "      <td>1</td>\n",
       "    </tr>\n",
       "    <tr>\n",
       "      <th>8759</th>\n",
       "      <td>23</td>\n",
       "      <td>1.9</td>\n",
       "      <td>43</td>\n",
       "      <td>1.3</td>\n",
       "      <td>1909</td>\n",
       "      <td>-9.3</td>\n",
       "      <td>0.0</td>\n",
       "      <td>0.0</td>\n",
       "      <td>0.0</td>\n",
       "      <td>0</td>\n",
       "      <td>0</td>\n",
       "      <td>1</td>\n",
       "      <td>0</td>\n",
       "      <td>1</td>\n",
       "      <td>1</td>\n",
       "    </tr>\n",
       "  </tbody>\n",
       "</table>\n",
       "<p>8760 rows × 15 columns</p>\n",
       "</div>"
      ],
      "text/plain": [
       "      Hour  Temperature(°C)  Humidity(%)  Wind speed (m/s)  Visibility (10m)  \\\n",
       "0        0             -5.2           37               2.2              2000   \n",
       "1        1             -5.5           38               0.8              2000   \n",
       "2        2             -6.0           39               1.0              2000   \n",
       "3        3             -6.2           40               0.9              2000   \n",
       "4        4             -6.0           36               2.3              2000   \n",
       "...    ...              ...          ...               ...               ...   \n",
       "8755    19              4.2           34               2.6              1894   \n",
       "8756    20              3.4           37               2.3              2000   \n",
       "8757    21              2.6           39               0.3              1968   \n",
       "8758    22              2.1           41               1.0              1859   \n",
       "8759    23              1.9           43               1.3              1909   \n",
       "\n",
       "      Dew point temperature(°C)  Solar Radiation (MJ/m2)  Rainfall(mm)  \\\n",
       "0                         -17.6                      0.0           0.0   \n",
       "1                         -17.6                      0.0           0.0   \n",
       "2                         -17.7                      0.0           0.0   \n",
       "3                         -17.6                      0.0           0.0   \n",
       "4                         -18.6                      0.0           0.0   \n",
       "...                         ...                      ...           ...   \n",
       "8755                      -10.3                      0.0           0.0   \n",
       "8756                       -9.9                      0.0           0.0   \n",
       "8757                       -9.9                      0.0           0.0   \n",
       "8758                       -9.8                      0.0           0.0   \n",
       "8759                       -9.3                      0.0           0.0   \n",
       "\n",
       "      Snowfall (cm)  Seasons_Spring  Seasons_Summer  Seasons_Autumn  \\\n",
       "0               0.0               0               0               0   \n",
       "1               0.0               0               0               0   \n",
       "2               0.0               0               0               0   \n",
       "3               0.0               0               0               0   \n",
       "4               0.0               0               0               0   \n",
       "...             ...             ...             ...             ...   \n",
       "8755            0.0               0               0               1   \n",
       "8756            0.0               0               0               1   \n",
       "8757            0.0               0               0               1   \n",
       "8758            0.0               0               0               1   \n",
       "8759            0.0               0               0               1   \n",
       "\n",
       "      Holiday_Dummy  FunctioningDay  MedianBikes  \n",
       "0                 0               1            0  \n",
       "1                 0               1            0  \n",
       "2                 0               1            0  \n",
       "3                 0               1            0  \n",
       "4                 0               1            0  \n",
       "...             ...             ...          ...  \n",
       "8755              0               1            1  \n",
       "8756              0               1            1  \n",
       "8757              0               1            1  \n",
       "8758              0               1            1  \n",
       "8759              0               1            1  \n",
       "\n",
       "[8760 rows x 15 columns]"
      ]
     },
     "execution_count": 2,
     "metadata": {},
     "output_type": "execute_result"
    }
   ],
   "source": [
    "#Initial Data\n",
    "data = pd.read_csv('SeoulBikeData.csv',encoding= 'unicode_escape')\n",
    "del data['Date']\n",
    "# Creating Dummy Variables for Qualitative Predictors\n",
    "SpringList=[0]*len(data)\n",
    "SummerList=[0]*len(data)\n",
    "AutumnList=[0]*len(data)\n",
    "\n",
    "Holiday = [0]*len(data)\n",
    "\n",
    "FunctioningDay = [0]*len(data)\n",
    "\n",
    "for i in range(len(data)):\n",
    "    if(data['Holiday'][i]=='Holiday'):\n",
    "        Holiday[i]=1\n",
    "    if(data['Functioning Day'][i]== 'Yes'):\n",
    "        FunctioningDay[i]=1\n",
    "    if(data['Seasons'][i]=='Spring'):\n",
    "        SpringList[i]=1\n",
    "    elif(data['Seasons'][i]=='Summer'):\n",
    "        SummerList[i]=1\n",
    "    elif(data['Seasons'][i]=='Autumn'):\n",
    "        AutumnList[i]=1\n",
    "        \n",
    "data['Seasons_Spring'] = SpringList\n",
    "data['Seasons_Summer'] = SummerList\n",
    "data['Seasons_Autumn'] = AutumnList\n",
    "data['Holiday_Dummy'] = Holiday\n",
    "data['FunctioningDay'] = FunctioningDay\n",
    "\n",
    "del data['Seasons']\n",
    "del data['Holiday']\n",
    "del data['Functioning Day']\n",
    "\n",
    "\n",
    "Bikes = copy.deepcopy(data)\n",
    "\n",
    "median = data[\"Rented Bike Count\"].median()\n",
    "\n",
    "Median=[]\n",
    "for bikes in data[\"Rented Bike Count\"]:\n",
    "    if (bikes>median):\n",
    "        Median.append(1)\n",
    "    else:\n",
    "        Median.append(0)\n",
    "        \n",
    "Bikes[\"MedianBikes\"] = Median\n",
    "\n",
    "\n",
    "#Since Rented Bike Count and the Median Bikes are correlated we delete Count\n",
    "del Bikes[\"Rented Bike Count\"]\n",
    "Bikes"
   ]
  },
  {
   "cell_type": "code",
   "execution_count": 246,
   "metadata": {},
   "outputs": [],
   "source": [
    "X = Bikes.iloc[:,:-1].values\n",
    "Y = Bikes.iloc[:, -1].values\n",
    "#Splitting data into training and testing set\n",
    "from sklearn.model_selection import train_test_split\n",
    "X_train, X_test, Y_train, Y_test =  train_test_split(X,Y,test_size=0.3,random_state=0)"
   ]
  },
  {
   "cell_type": "code",
   "execution_count": 247,
   "metadata": {},
   "outputs": [],
   "source": [
    "# Applying Feature Scaling for Features\n",
    "from sklearn.preprocessing import StandardScaler\n",
    "sc = StandardScaler()\n",
    "X_train = sc.fit_transform(X_train) #applying on all features\n",
    "X_test = sc.transform(X_test)"
   ]
  },
  {
   "cell_type": "code",
   "execution_count": 26,
   "metadata": {},
   "outputs": [
    {
     "name": "stdout",
     "output_type": "stream",
     "text": [
      "--- 14.850806951522827 seconds ---\n"
     ]
    }
   ],
   "source": [
    "#Building the model\n",
    "start_time = time.time()\n",
    "#Initializing the ANN\n",
    "#initializing ann as sequence of layers\n",
    "# sequence class belongs to keras library but new tensorflow consists of keras as well\n",
    "ann = tf.keras.models.Sequential()\n",
    "\n",
    "#Adding input layer and the first hidden layer\n",
    "ann.add(tf.keras.layers.Dense(units=6,activation='relu')) #units = # neurons in hidden layer. for fully function NN activation func=rectifier func or relu\n",
    "\n",
    "#Add second hidden layer \n",
    "ann.add(tf.keras.layers.Dense(units=6,activation='relu'))\n",
    "\n",
    "#Add output layer\n",
    "ann.add(tf.keras.layers.Dense(units=1,activation='sigmoid')) #for non binary output y more than 2 classifications use activation = 'softmax'\n",
    "\n",
    "#Training ANN\n",
    "# Compiling ANN\n",
    "ann.compile(optimizer='adam' ,loss='binary_crossentropy' ,metrics=['accuracy']) #optimizer = stochastic gradient descent (adam) #for binary ouput classification we must use binary_crossentropy, non binary = categorical_crossentropy\n",
    "\n",
    "#Training the ANN on training set\n",
    "ann.fit(X_train,Y_train,batch_size=32,epochs=50,verbose=0) #computing batches of data is more accurate. # of predictors\n",
    "\n",
    "\n",
    "#Predicting test results. Code similar to logistic reg code\n",
    "Y_pred = ann.predict(X_test)\n",
    "Y_pred=(Y_pred>0.5) #if >0.5 y_pred=1 else 0\n",
    "#print(np.concatenate((y_pred.reshape(len(y_pred),1),y_test.reshape(len(y_pred),1)),1))\n",
    "print(\"--- %s seconds ---\" % (time.time() - start_time))"
   ]
  },
  {
   "cell_type": "code",
   "execution_count": null,
   "metadata": {},
   "outputs": [],
   "source": []
  },
  {
   "cell_type": "code",
   "execution_count": 5,
   "metadata": {},
   "outputs": [],
   "source": [
    "from tensorflow import keras\n",
    "from tensorflow.keras import layers"
   ]
  },
  {
   "cell_type": "code",
   "execution_count": 102,
   "metadata": {},
   "outputs": [],
   "source": [
    "# Activation = \"relu\"\n",
    "model = keras.Sequential(\n",
    "    [\n",
    "        layers.Dense(12, activation=\"relu\", name=\"hiddenlayer1\"),\n",
    "        layers.Dense(12, activation=\"relu\", name=\"hiddenlayer2\"),\n",
    "        layers.Dense(1, activation=\"sigmoid\",name=\"outputlayer\"),\n",
    "\n",
    "    ]\n",
    ")"
   ]
  },
  {
   "cell_type": "code",
   "execution_count": 103,
   "metadata": {},
   "outputs": [
    {
     "data": {
      "text/plain": [
       "<tensorflow.python.keras.callbacks.History at 0x7f950cf75150>"
      ]
     },
     "execution_count": 103,
     "metadata": {},
     "output_type": "execute_result"
    }
   ],
   "source": [
    "model.compile(optimizer='adam' ,loss='binary_crossentropy' ,metrics=['accuracy'])\n",
    "\n",
    "model.fit(X_train,Y_train,batch_size=32,epochs=50,verbose=0)\n",
    "\n"
   ]
  },
  {
   "cell_type": "code",
   "execution_count": 104,
   "metadata": {},
   "outputs": [],
   "source": [
    "y_pred = model.predict(X_test)\n",
    "y_pred=(y_pred>0.5) #if >0.5 y_pred=1 else 0"
   ]
  },
  {
   "cell_type": "code",
   "execution_count": 105,
   "metadata": {},
   "outputs": [
    {
     "name": "stdout",
     "output_type": "stream",
     "text": [
      "[[1238  103]\n",
      " [ 128 1159]]\n",
      "0.9121004566210046\n"
     ]
    }
   ],
   "source": [
    "#Confusion Matrix\n",
    "cm = confusion_matrix(Y_test,y_pred)\n",
    "print(cm)\n",
    "print(accuracy_score(Y_test,y_pred))"
   ]
  },
  {
   "cell_type": "markdown",
   "metadata": {},
   "source": [
    "# Finding the Best Activation Function (relu, tanh, linear)"
   ]
  },
  {
   "cell_type": "code",
   "execution_count": 114,
   "metadata": {},
   "outputs": [],
   "source": [
    "def Model(activation):\n",
    "    act = activation\n",
    "    model = keras.Sequential(\n",
    "        [\n",
    "            layers.Dense(12, activation=act, name=\"hiddenlayer1\"),\n",
    "            layers.Dense(12, activation=act, name=\"hiddenlayer2\"),\n",
    "            layers.Dense(1, activation=\"sigmoid\",name=\"outputlayer\"),\n",
    "\n",
    "        ]\n",
    "    )\n",
    "    \n",
    "    return model"
   ]
  },
  {
   "cell_type": "code",
   "execution_count": 115,
   "metadata": {},
   "outputs": [],
   "source": [
    "Act_list = ['linear','relu','tanh']\n",
    "accuracy =[]\n",
    "extime=[]\n",
    "for a in Act_list:\n",
    "    start_time = time.time()\n",
    "    \n",
    "    model = Model(a)\n",
    "    \n",
    "    model.compile(optimizer='adam' ,loss='binary_crossentropy' ,metrics=['accuracy'])\n",
    "\n",
    "    model.fit(X_train,Y_train,batch_size=32,epochs=50,verbose=0)\n",
    "    \n",
    "    y_pred = model.predict(X_test)\n",
    "    y_pred=(y_pred>0.5) #if >0.5 y_pred=1 else 0\n",
    "    extime.append((time.time() - start_time))\n",
    "    accuracy.append(accuracy_score(Y_test,y_pred))"
   ]
  },
  {
   "cell_type": "code",
   "execution_count": 117,
   "metadata": {},
   "outputs": [
    {
     "data": {
      "text/plain": [
       "[23.745745182037354, 22.047245025634766, 22.67448925971985]"
      ]
     },
     "execution_count": 117,
     "metadata": {},
     "output_type": "execute_result"
    }
   ],
   "source": [
    "extime"
   ]
  },
  {
   "cell_type": "code",
   "execution_count": 118,
   "metadata": {},
   "outputs": [
    {
     "data": {
      "image/png": "[encoded data removed]",
      "text/plain": [
       "<Figure size 432x288 with 1 Axes>"
      ]
     },
     "metadata": {
      "needs_background": "light"
     },
     "output_type": "display_data"
    },
    {
     "data": {
      "image/png": "[encoded data removed]",
      "text/plain": [
       "<Figure size 432x288 with 1 Axes>"
      ]
     },
     "metadata": {
      "needs_background": "light"
     },
     "output_type": "display_data"
    }
   ],
   "source": [
    "plt.xlabel('Activation Functions')\n",
    "plt.ylabel('Accuracy')\n",
    "plt.plot(Act_list,accuracy)\n",
    "plt.show()\n",
    "\n",
    "plt.xlabel('Activation Functions')\n",
    "plt.ylabel('Execution Time')\n",
    "plt.plot(Act_list,extime)\n",
    "plt.show()"
   ]
  },
  {
   "cell_type": "markdown",
   "metadata": {},
   "source": [
    "# Finding best # of layers"
   ]
  },
  {
   "cell_type": "code",
   "execution_count": 123,
   "metadata": {},
   "outputs": [],
   "source": [
    "def Model():\n",
    "    model = keras.Sequential(\n",
    "        [\n",
    "            layers.Dense(6, activation=\"relu\", name=\"hiddenlayer1\"),\n",
    "            layers.Dense(6, activation=\"relu\", name=\"hiddenlayer1\"),\n",
    "            layers.Dense(6, activation=\"relu\", name=\"hiddenlayer1\"),\n",
    "            layers.Dense(6, activation=\"relu\", name=\"hiddenlayer1\"),\n",
    "            layers.Dense(6, activation=\"relu\", name=\"hiddenlayer1\"),\n",
    "            layers.Dense(1, activation=\"sigmoid\",name=\"outputlayer\"),\n",
    "\n",
    "        ]\n",
    "    )\n",
    "    \n",
    "    return model"
   ]
  },
  {
   "cell_type": "code",
   "execution_count": 127,
   "metadata": {},
   "outputs": [],
   "source": [
    "\n",
    "\n",
    "start_time = time.time()\n",
    "model = Model()\n",
    "\n",
    "\n",
    "model.compile(optimizer='adam' ,loss='binary_crossentropy' ,metrics=['accuracy'])\n",
    "\n",
    "model.fit(X_train,Y_train,batch_size=32,epochs=50,verbose=0)\n",
    "\n",
    "y_pred = model.predict(X_test)\n",
    "y_pred=(y_pred>0.5) #if >0.5 y_pred=1 else 0\n",
    "\n",
    "accuracy.append(accuracy_score(Y_test,y_pred))"
   ]
  },
  {
   "cell_type": "code",
   "execution_count": 130,
   "metadata": {},
   "outputs": [
    {
     "data": {
      "image/png": "[encoded data removed]",
      "text/plain": [
       "<Figure size 432x288 with 1 Axes>"
      ]
     },
     "metadata": {
      "needs_background": "light"
     },
     "output_type": "display_data"
    }
   ],
   "source": [
    "dl=list(range(1,6))\n",
    "plt.xlabel('Number of Hidden Layers')\n",
    "plt.ylabel('Accuracy')\n",
    "plt.plot(dl,accuracy)\n",
    "plt.show()"
   ]
  },
  {
   "cell_type": "markdown",
   "metadata": {},
   "source": [
    "# Finding best # Neurons in each hidden layer"
   ]
  },
  {
   "cell_type": "code",
   "execution_count": 131,
   "metadata": {},
   "outputs": [],
   "source": [
    "def Model(n):\n",
    "    \n",
    "    model = keras.Sequential(\n",
    "        [\n",
    "            layers.Dense(n, activation=\"relu\", name=\"hiddenlayer1\"),\n",
    "            layers.Dense(n, activation=\"relu\", name=\"hiddenlayer1\"),\n",
    "            layers.Dense(n, activation=\"relu\", name=\"hiddenlayer1\"),\n",
    "            layers.Dense(n, activation=\"relu\", name=\"hiddenlayer1\"),\n",
    "            layers.Dense(1, activation=\"sigmoid\",name=\"outputlayer\"),\n",
    "\n",
    "        ]\n",
    "    )\n",
    "    \n",
    "    return model"
   ]
  },
  {
   "cell_type": "code",
   "execution_count": 152,
   "metadata": {},
   "outputs": [],
   "source": [
    "n_list = [2,6,8,12,15]\n",
    "accuracy =[]\n",
    "extime=[]\n",
    "for n in n_list:\n",
    "    start_time = time.time()\n",
    "    \n",
    "    model = Model(n)\n",
    "    \n",
    "    model.compile(optimizer='adam' ,loss='binary_crossentropy' ,metrics=['accuracy'])\n",
    "\n",
    "    model.fit(X_train,Y_train,batch_size=32,epochs=50,verbose=0)\n",
    "    \n",
    "    y_pred = model.predict(X_test)\n",
    "    y_pred=(y_pred>0.5) #if >0.5 y_pred=1 else 0\n",
    "    extime.append((time.time() - start_time))\n",
    "    accuracy.append(accuracy_score(Y_test,y_pred))"
   ]
  },
  {
   "cell_type": "code",
   "execution_count": 153,
   "metadata": {},
   "outputs": [
    {
     "data": {
      "image/png": "[encoded data removed]",
      "text/plain": [
       "<Figure size 432x288 with 1 Axes>"
      ]
     },
     "metadata": {
      "needs_background": "light"
     },
     "output_type": "display_data"
    },
    {
     "data": {
      "image/png": "[encoded data removed]",
      "text/plain": [
       "<Figure size 432x288 with 1 Axes>"
      ]
     },
     "metadata": {
      "needs_background": "light"
     },
     "output_type": "display_data"
    }
   ],
   "source": [
    "plt.xlabel('Number of Hidden Layer Neurons')\n",
    "plt.ylabel('Accuracy')\n",
    "plt.plot(n_list,accuracy)\n",
    "plt.show()\n",
    "\n",
    "plt.xlabel('Number of Hidden Layer Neurons')\n",
    "plt.ylabel('Execution Time')\n",
    "plt.plot(n_list,extime)\n",
    "plt.show()"
   ]
  },
  {
   "cell_type": "markdown",
   "metadata": {},
   "source": [
    "# Finding best optimizer"
   ]
  },
  {
   "cell_type": "code",
   "execution_count": 154,
   "metadata": {},
   "outputs": [],
   "source": [
    "def Model():\n",
    "    \n",
    "    model = keras.Sequential(\n",
    "        [\n",
    "            layers.Dense(n, activation=\"relu\", name=\"hiddenlayer1\"),\n",
    "            layers.Dense(n, activation=\"relu\", name=\"hiddenlayer1\"),\n",
    "            layers.Dense(n, activation=\"relu\", name=\"hiddenlayer1\"),\n",
    "            layers.Dense(n, activation=\"relu\", name=\"hiddenlayer1\"),\n",
    "            layers.Dense(1, activation=\"sigmoid\",name=\"outputlayer\"),\n",
    "\n",
    "        ]\n",
    "    )\n",
    "    \n",
    "    return model"
   ]
  },
  {
   "cell_type": "code",
   "execution_count": 166,
   "metadata": {},
   "outputs": [],
   "source": [
    "optimizers = ['adam','sgd','adamax','rmsprop']\n",
    "accuracy =[]\n",
    "extime=[]\n",
    "for opt in optimizers:\n",
    "    start_time = time.time()\n",
    "    \n",
    "    model = Model()\n",
    "    \n",
    "    model.compile(optimizer=opt ,loss='binary_crossentropy' ,metrics=['accuracy'])\n",
    "\n",
    "    model.fit(X_train,Y_train,batch_size=32,epochs=50,verbose=0)\n",
    "    \n",
    "    y_pred = model.predict(X_test)\n",
    "    y_pred=(y_pred>0.5) #if >0.5 y_pred=1 else 0\n",
    "    extime.append((time.time() - start_time))\n",
    "    accuracy.append(accuracy_score(Y_test,y_pred))"
   ]
  },
  {
   "cell_type": "code",
   "execution_count": 167,
   "metadata": {},
   "outputs": [
    {
     "data": {
      "image/png": "[encoded data removed]",
      "text/plain": [
       "<Figure size 432x288 with 1 Axes>"
      ]
     },
     "metadata": {
      "needs_background": "light"
     },
     "output_type": "display_data"
    },
    {
     "data": {
      "image/png": "[encoded data removed]",
      "text/plain": [
       "<Figure size 432x288 with 1 Axes>"
      ]
     },
     "metadata": {
      "needs_background": "light"
     },
     "output_type": "display_data"
    }
   ],
   "source": [
    "plt.xlabel('Optimizers')\n",
    "plt.ylabel('Accuracy')\n",
    "plt.plot(optimizers,accuracy)\n",
    "plt.show()\n",
    "\n",
    "plt.xlabel('Optimizers')\n",
    "plt.ylabel('Execution Time')\n",
    "plt.plot(optimizers,extime)\n",
    "plt.show()"
   ]
  },
  {
   "cell_type": "markdown",
   "metadata": {},
   "source": [
    "# Best Epochs"
   ]
  },
  {
   "cell_type": "code",
   "execution_count": null,
   "metadata": {},
   "outputs": [],
   "source": []
  },
  {
   "cell_type": "code",
   "execution_count": 168,
   "metadata": {},
   "outputs": [],
   "source": [
    "Epochs = [10,25,50,100,150]\n",
    "accuracy =[]\n",
    "extime=[]\n",
    "for e in Epochs:\n",
    "    start_time = time.time()\n",
    "    \n",
    "    model = Model()\n",
    "    \n",
    "    model.compile(optimizer=\"adam\" ,loss='binary_crossentropy' ,metrics=['accuracy'])\n",
    "\n",
    "    model.fit(X_train,Y_train,batch_size=32,epochs=e,verbose=0)\n",
    "    \n",
    "    y_pred = model.predict(X_test)\n",
    "    y_pred=(y_pred>0.5) #if >0.5 y_pred=1 else 0\n",
    "    extime.append((time.time() - start_time))\n",
    "    accuracy.append(accuracy_score(Y_test,y_pred))"
   ]
  },
  {
   "cell_type": "code",
   "execution_count": 169,
   "metadata": {},
   "outputs": [
    {
     "data": {
      "image/png": "[encoded data removed]",
      "text/plain": [
       "<Figure size 432x288 with 1 Axes>"
      ]
     },
     "metadata": {
      "needs_background": "light"
     },
     "output_type": "display_data"
    },
    {
     "data": {
      "image/png": "[encoded data removed]",
      "text/plain": [
       "<Figure size 432x288 with 1 Axes>"
      ]
     },
     "metadata": {
      "needs_background": "light"
     },
     "output_type": "display_data"
    }
   ],
   "source": [
    "plt.xlabel('Epochs')\n",
    "plt.ylabel('Accuracy')\n",
    "plt.plot(Epochs,accuracy)\n",
    "plt.show()\n",
    "\n",
    "plt.xlabel('Epochs')\n",
    "plt.ylabel('Execution Time')\n",
    "plt.plot(Epochs,extime)\n",
    "plt.show()"
   ]
  },
  {
   "cell_type": "markdown",
   "metadata": {},
   "source": [
    "# Best Batch Size with Epochs = 100"
   ]
  },
  {
   "cell_type": "code",
   "execution_count": 170,
   "metadata": {},
   "outputs": [],
   "source": [
    "Batch_size = [32,64,128,256]\n",
    "accuracy =[]\n",
    "extime=[]\n",
    "for b in Batch_size:\n",
    "    start_time = time.time()\n",
    "    \n",
    "    model = Model()\n",
    "    \n",
    "    model.compile(optimizer=\"adam\" ,loss='binary_crossentropy' ,metrics=['accuracy'])\n",
    "\n",
    "    model.fit(X_train,Y_train,batch_size=b,epochs=100,verbose=0)\n",
    "    \n",
    "    y_pred = model.predict(X_test)\n",
    "    y_pred=(y_pred>0.5) #if >0.5 y_pred=1 else 0\n",
    "    extime.append((time.time() - start_time))\n",
    "    accuracy.append(accuracy_score(Y_test,y_pred))"
   ]
  },
  {
   "cell_type": "code",
   "execution_count": 171,
   "metadata": {},
   "outputs": [
    {
     "data": {
      "image/png": "[encoded data removed]",
      "text/plain": [
       "<Figure size 432x288 with 1 Axes>"
      ]
     },
     "metadata": {
      "needs_background": "light"
     },
     "output_type": "display_data"
    },
    {
     "data": {
      "image/png": "[encoded data removed]",
      "text/plain": [
       "<Figure size 432x288 with 1 Axes>"
      ]
     },
     "metadata": {
      "needs_background": "light"
     },
     "output_type": "display_data"
    }
   ],
   "source": [
    "plt.xlabel('Batch Size')\n",
    "plt.ylabel('Accuracy')\n",
    "plt.plot(Batch_size,accuracy)\n",
    "plt.show()\n",
    "\n",
    "plt.xlabel('Batch Size')\n",
    "plt.ylabel('Execution Time')\n",
    "plt.plot(Batch_size,extime)\n",
    "plt.show()"
   ]
  },
  {
   "cell_type": "markdown",
   "metadata": {},
   "source": [
    "# Best Model"
   ]
  },
  {
   "cell_type": "code",
   "execution_count": 241,
   "metadata": {},
   "outputs": [
    {
     "data": {
      "text/plain": [
       "<tensorflow.python.keras.callbacks.History at 0x7f948fc9e1d0>"
      ]
     },
     "execution_count": 241,
     "metadata": {},
     "output_type": "execute_result"
    }
   ],
   "source": [
    "model = keras.Sequential(\n",
    "    [\n",
    "        layers.Dense(12, activation=\"relu\", name=\"hiddenlayer1\"),\n",
    "        layers.Dense(12, activation=\"relu\", name=\"hiddenlayer1\"),\n",
    "        layers.Dense(12, activation=\"relu\", name=\"hiddenlayer1\"),\n",
    "        layers.Dense(12, activation=\"relu\", name=\"hiddenlayer1\"),\n",
    "        layers.Dense(1, activation=\"sigmoid\",name=\"outputlayer\"),\n",
    "\n",
    "    ]\n",
    ")  \n",
    "\n",
    "start_time = time.time()\n",
    "\n",
    "model.compile(optimizer=\"adam\" ,loss='binary_crossentropy' ,metrics=['accuracy'])\n",
    "\n",
    "model.fit(X_train,Y_train,batch_size=64,epochs=100,verbose=0)\n",
    "\n",
    "\n"
   ]
  },
  {
   "cell_type": "code",
   "execution_count": 242,
   "metadata": {},
   "outputs": [
    {
     "name": "stdout",
     "output_type": "stream",
     "text": [
      "Time:  96.75039100646973\n",
      "Accuracy:  0.9136225266362252\n",
      "\n",
      "Confusion Matrix\n",
      "[[1222  119]\n",
      " [ 108 1179]]\n"
     ]
    }
   ],
   "source": [
    "y_pred = model.predict(X_test)\n",
    "y_pred=(y_pred>0.4) #if >0.5 y_pred=1 else 0\n",
    "print(\"Time: \",(time.time() - start_time))\n",
    "print(\"Accuracy: \",accuracy_score(Y_test,y_pred))\n",
    "\n",
    "#Confusion Matrix\n",
    "cm = confusion_matrix(Y_test,y_pred)\n",
    "print(\"\\nConfusion Matrix\")\n",
    "print(cm)"
   ]
  },
  {
   "cell_type": "markdown",
   "metadata": {},
   "source": [
    "# Cross Validation"
   ]
  },
  {
   "cell_type": "code",
   "execution_count": 199,
   "metadata": {},
   "outputs": [
    {
     "name": "stderr",
     "output_type": "stream",
     "text": [
      "Using TensorFlow backend.\n"
     ]
    }
   ],
   "source": [
    "from keras.wrappers.scikit_learn import KerasClassifier\n",
    "from sklearn.model_selection import KFold"
   ]
  },
  {
   "cell_type": "code",
   "execution_count": 232,
   "metadata": {},
   "outputs": [
    {
     "data": {
      "text/plain": [
       "10"
      ]
     },
     "execution_count": 232,
     "metadata": {},
     "output_type": "execute_result"
    }
   ],
   "source": [
    "from sklearn.model_selection import KFold\n",
    "kf = KFold(n_splits=10)\n",
    "kf.get_n_splits(X)"
   ]
  },
  {
   "cell_type": "code",
   "execution_count": 244,
   "metadata": {},
   "outputs": [
    {
     "name": "stdout",
     "output_type": "stream",
     "text": [
      "Time:  3489.463783979416\n",
      "0.9246575342465754\n",
      "Time:  3611.7574491500854\n",
      "0.9771689497716894\n",
      "Time:  3737.1831319332123\n",
      "0.839041095890411\n",
      "Time:  3863.5518097877502\n",
      "0.8584474885844748\n",
      "Time:  3981.9665820598602\n",
      "0.8755707762557078\n",
      "Time:  4099.793598175049\n",
      "0.9052511415525114\n",
      "Time:  4217.13250207901\n",
      "0.9029680365296804\n",
      "Time:  4335.843667984009\n",
      "0.8926940639269406\n",
      "Time:  4455.726064920425\n",
      "0.9200913242009132\n",
      "Time:  4574.948231935501\n",
      "0.9052511415525114\n"
     ]
    }
   ],
   "source": [
    "accuracy=[]\n",
    "extime=[]\n",
    "for train_index, test_index in kf.split(X):\n",
    "    #print(\"TRAIN:\", train_index, \"TEST:\", test_index)\n",
    "    X_train, X_test = X_t[train_index], X_t[test_index]\n",
    "    y_train, y_test = Y[train_index], Y[test_index]\n",
    "    \n",
    "    model= Model()\n",
    "    model.fit(X_train,y_train,batch_size=64,epochs=100,verbose=0)\n",
    "    y_pred = model.predict(X_test)\n",
    "    y_pred=(y_pred>0.4) #if >0.5 y_pred=1 else 0\n",
    "    print(\"Time: \",(time.time() - start_time))\n",
    "    extime.append((time.time() - start_time))\n",
    "    print(accuracy_score(y_test,y_pred))\n",
    "    accuracy.append(accuracy_score(y_test,y_pred))"
   ]
  },
  {
   "cell_type": "code",
   "execution_count": 272,
   "metadata": {},
   "outputs": [
    {
     "data": {
      "image/png": "[encoded data removed]",
      "text/plain": [
       "<Figure size 432x288 with 1 Axes>"
      ]
     },
     "metadata": {
      "needs_background": "light"
     },
     "output_type": "display_data"
    }
   ],
   "source": [
    "accuracy=[0.9246575342465754,0.9771689497716894,0.839041095890411,0.8584474885844748,0.8755707762557078,0.9052511415525114,0.9029680365296804,0.8926940639269406,0.9200913242009132\n",
    "        ,0.9052511415525114]\n",
    "plt.plot(accuracy)\n",
    "plt.xlabel('K-Folds')\n",
    "plt.ylabel('Cross-Validated Accuracy')\n",
    "plt.show()"
   ]
  },
  {
   "cell_type": "code",
   "execution_count": 273,
   "metadata": {},
   "outputs": [
    {
     "data": {
      "text/plain": [
       "0.9001141552511415"
      ]
     },
     "execution_count": 273,
     "metadata": {},
     "output_type": "execute_result"
    }
   ],
   "source": [
    "sum(accuracy)/len(accuracy)"
   ]
  },
  {
   "cell_type": "code",
   "execution_count": 234,
   "metadata": {},
   "outputs": [],
   "source": [
    "def Model():\n",
    "    model = keras.Sequential(\n",
    "        [\n",
    "            layers.Dense(12, activation=\"relu\", name=\"hiddenlayer1\"),\n",
    "            layers.Dense(12, activation=\"relu\", name=\"hiddenlayer1\"),\n",
    "            layers.Dense(12, activation=\"relu\", name=\"hiddenlayer1\"),\n",
    "            layers.Dense(12, activation=\"relu\", name=\"hiddenlayer1\"),\n",
    "            layers.Dense(1, activation=\"sigmoid\",name=\"outputlayer\"),\n",
    "\n",
    "        ]\n",
    "    )\n",
    "    \n",
    "    model.compile(optimizer=\"adam\" ,loss='binary_crossentropy' ,metrics=['accuracy'])\n",
    "    \n",
    "    return model"
   ]
  },
  {
   "cell_type": "markdown",
   "metadata": {},
   "source": [
    "# K-NN Model"
   ]
  },
  {
   "cell_type": "code",
   "execution_count": 179,
   "metadata": {},
   "outputs": [
    {
     "data": {
      "text/plain": [
       "KNeighborsClassifier()"
      ]
     },
     "execution_count": 179,
     "metadata": {},
     "output_type": "execute_result"
    }
   ],
   "source": [
    "#Implemeting K-NN model\n",
    "from sklearn.neighbors import KNeighborsClassifier\n",
    "classifier = KNeighborsClassifier(n_neighbors=5,metric='minkowski',p=2) #minkowski and p=2 means we are using eucledian distance\n",
    "classifier.fit(X_train,Y_train)"
   ]
  },
  {
   "cell_type": "code",
   "execution_count": 180,
   "metadata": {},
   "outputs": [
    {
     "name": "stdout",
     "output_type": "stream",
     "text": [
      "[[1228  113]\n",
      " [ 182 1105]]\n"
     ]
    },
    {
     "data": {
      "text/plain": [
       "0.8877473363774734"
      ]
     },
     "execution_count": 180,
     "metadata": {},
     "output_type": "execute_result"
    }
   ],
   "source": [
    "#Predicting for test data\n",
    "y_pred = classifier.predict(X_test)\n",
    "\n",
    "#Confusion Matrix\n",
    "cm = confusion_matrix(Y_test,y_pred)\n",
    "print(cm)\n",
    "accuracy_score(Y_test,y_pred)"
   ]
  },
  {
   "cell_type": "markdown",
   "metadata": {},
   "source": [
    "# Best Distance Metric"
   ]
  },
  {
   "cell_type": "code",
   "execution_count": 182,
   "metadata": {},
   "outputs": [],
   "source": [
    "pvalue =[1,2,3]\n",
    "accuracy = []\n",
    "for pval in pvalue:\n",
    "    classifier = KNeighborsClassifier(n_neighbors=5,metric='minkowski',p=pval) \n",
    "    classifier.fit(X_train,Y_train)\n",
    "    \n",
    "    y_pred = classifier.predict(X_test)\n",
    "    \n",
    "    accuracy.append(accuracy_score(Y_test,y_pred))\n",
    "    \n"
   ]
  },
  {
   "cell_type": "code",
   "execution_count": 184,
   "metadata": {},
   "outputs": [
    {
     "data": {
      "image/png": "[encoded data removed]",
      "text/plain": [
       "<Figure size 432x288 with 1 Axes>"
      ]
     },
     "metadata": {
      "needs_background": "light"
     },
     "output_type": "display_data"
    }
   ],
   "source": [
    "distance = ['manhattan_distance','euclidean_distance','minkowski_distance']\n",
    "plt.xlabel('Distance Metric')\n",
    "plt.ylabel('Accuracy')\n",
    "plt.plot(distance,accuracy)\n",
    "plt.show()"
   ]
  },
  {
   "cell_type": "markdown",
   "metadata": {},
   "source": [
    "# Best N"
   ]
  },
  {
   "cell_type": "code",
   "execution_count": 256,
   "metadata": {},
   "outputs": [],
   "source": [
    "nvalue =range(1,31)\n",
    "accuracy = []\n",
    "for n in nvalue:\n",
    "    classifier = KNeighborsClassifier(n_neighbors=n,metric='minkowski',p=1) \n",
    "    classifier.fit(X_train,Y_train)\n",
    "    \n",
    "    y_pred = classifier.predict(X_test)\n",
    "    \n",
    "    accuracy.append(accuracy_score(Y_test,y_pred))"
   ]
  },
  {
   "cell_type": "code",
   "execution_count": 257,
   "metadata": {},
   "outputs": [
    {
     "data": {
      "image/png": "[encoded data removed]",
      "text/plain": [
       "<Figure size 432x288 with 1 Axes>"
      ]
     },
     "metadata": {
      "needs_background": "light"
     },
     "output_type": "display_data"
    }
   ],
   "source": [
    "plt.xlabel('# of Neighbors')\n",
    "plt.ylabel('Accuracy')\n",
    "plt.plot(nvalue,accuracy)\n",
    "plt.show()"
   ]
  },
  {
   "cell_type": "markdown",
   "metadata": {},
   "source": [
    "# Best Model"
   ]
  },
  {
   "cell_type": "code",
   "execution_count": 264,
   "metadata": {},
   "outputs": [
    {
     "name": "stdout",
     "output_type": "stream",
     "text": [
      "Accuracy: 0.895738203957382\n",
      "\n",
      "Confusion Matrix\n",
      "[[1257   84]\n",
      " [ 190 1097]]\n"
     ]
    }
   ],
   "source": [
    "classifier = KNeighborsClassifier(n_neighbors=14,metric='minkowski',p=1) \n",
    "classifier.fit(X_train,Y_train)\n",
    "    \n",
    "y_pred = classifier.predict(X_test)\n",
    "    \n",
    "\n",
    "\n",
    "\n",
    "print(\"Accuracy:\",accuracy_score(Y_test,y_pred))\n",
    "#Confusion Matrix\n",
    "cm = confusion_matrix(Y_test,y_pred)\n",
    "print(\"\\nConfusion Matrix\")\n",
    "print(cm)"
   ]
  },
  {
   "cell_type": "markdown",
   "metadata": {},
   "source": [
    "# Cross Validation"
   ]
  },
  {
   "cell_type": "code",
   "execution_count": 265,
   "metadata": {},
   "outputs": [],
   "source": [
    "#Feature Scaling\n",
    "# Applying Feature Scaling for Features\n",
    "from sklearn.preprocessing import StandardScaler\n",
    "sc = StandardScaler()\n",
    "X_t = sc.fit_transform(X) #applying on all features"
   ]
  },
  {
   "cell_type": "code",
   "execution_count": 266,
   "metadata": {},
   "outputs": [
    {
     "data": {
      "image/png": "[encoded data removed]",
      "text/plain": [
       "<Figure size 432x288 with 1 Axes>"
      ]
     },
     "metadata": {
      "needs_background": "light"
     },
     "output_type": "display_data"
    }
   ],
   "source": [
    "import matplotlib.pyplot as plt \n",
    "from sklearn.model_selection import cross_val_score\n",
    "%matplotlib inline\n",
    "# choose k between 1 to 31\n",
    "k_range = range(1, 31)\n",
    "k_scores = []\n",
    "# use iteration to caclulator different k in models, then return the average accuracy based on the cross validation\n",
    "for k in k_range:\n",
    "    knn = KNeighborsClassifier(n_neighbors=k,metric='minkowski',p=1)\n",
    "    scores = cross_val_score(knn, X_t, Y, cv=10, scoring='accuracy')\n",
    "    k_scores.append(scores.mean())\n",
    "# plot to see clearly\n",
    "plt.plot(k_range, k_scores)\n",
    "plt.xlabel('Value of K for KNN')\n",
    "plt.ylabel('Cross-Validated Accuracy')\n",
    "plt.show()"
   ]
  },
  {
   "cell_type": "code",
   "execution_count": 280,
   "metadata": {},
   "outputs": [
    {
     "data": {
      "text/plain": [
       "0.7559360730593607"
      ]
     },
     "execution_count": 280,
     "metadata": {},
     "output_type": "execute_result"
    }
   ],
   "source": [
    "k_scores[14]"
   ]
  },
  {
   "cell_type": "code",
   "execution_count": null,
   "metadata": {},
   "outputs": [],
   "source": []
  }
 ],
 "metadata": {
  "kernelspec": {
   "display_name": "Python 3",
   "language": "python",
   "name": "python3"
  },
  "language_info": {
   "codemirror_mode": {
    "name": "ipython",
    "version": 3
   },
   "file_extension": ".py",
   "mimetype": "text/x-python",
   "name": "python",
   "nbconvert_exporter": "python",
   "pygments_lexer": "ipython3",
   "version": "3.7.6"
  }
 },
 "nbformat": 4,
 "nbformat_minor": 4
}
